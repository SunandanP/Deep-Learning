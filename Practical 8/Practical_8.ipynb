{
  "nbformat": 4,
  "nbformat_minor": 0,
  "metadata": {
    "colab": {
      "provenance": []
    },
    "kernelspec": {
      "name": "python3",
      "display_name": "Python 3"
    },
    "language_info": {
      "name": "python"
    }
  },
  "cells": [
    {
      "cell_type": "code",
      "source": [
        "import numpy as np"
      ],
      "metadata": {
        "id": "-lYlhm_6ParM"
      },
      "execution_count": 5,
      "outputs": []
    },
    {
      "cell_type": "code",
      "source": [
        "def sigmoid(x):\n",
        "    return 1 / (1 + np.exp(-x))\n",
        "\n",
        "def tanh(x):\n",
        "    return np.tanh(x)\n",
        "\n",
        "def softmax(x):\n",
        "    exp_x = np.exp(x - np.max(x, axis=-1, keepdims=True))\n",
        "    return exp_x / np.sum(exp_x, axis=-1, keepdims=True)\n"
      ],
      "metadata": {
        "id": "-e3Q8X9rVds-"
      },
      "execution_count": 1,
      "outputs": []
    },
    {
      "cell_type": "code",
      "source": [
        "def rnn_forward(x, h_prev, Wx, Wh, Wy, bh, by):\n",
        "    h_t = tanh(np.dot(x, Wx) + np.dot(h_prev, Wh) + bh)\n",
        "    y_t = softmax(np.dot(h_t, Wy) + by)\n",
        "    return h_t, y_t\n",
        "\n",
        "def rnn_backward(dy, h, x, h_prev, Wx, Wh, Wy, bh, by):\n",
        "    dh = (1 - h**2) * (dy.dot(Wy.T) + h_prev.dot(Wh.T))\n",
        "    dWx = x.T.dot(dh)\n",
        "    dWh = h_prev.T.dot(dh)\n",
        "    dWy = h.T.dot(dy)\n",
        "    dbh = np.sum(dh, axis=0)\n",
        "    dby = np.sum(dy, axis=0)\n",
        "    return dWx, dWh, dWy, dbh, dby, dh"
      ],
      "metadata": {
        "id": "wsRMY7CrVhgQ"
      },
      "execution_count": 2,
      "outputs": []
    },
    {
      "cell_type": "code",
      "source": [
        "def train_rnn(X, Y, epochs=100, learning_rate=0.01):\n",
        "    np.random.seed(42)\n",
        "\n",
        "    input_size = X.shape[1]\n",
        "    hidden_size = 64\n",
        "    output_size = Y.shape[1]\n",
        "\n",
        "    Wx = np.random.randn(input_size, hidden_size)\n",
        "    Wh = np.random.randn(hidden_size, hidden_size)\n",
        "    Wy = np.random.randn(hidden_size, output_size)\n",
        "    bh = np.zeros((1, hidden_size))\n",
        "    by = np.zeros((1, output_size))\n",
        "\n",
        "    for epoch in range(epochs):\n",
        "        h_prev = np.zeros((1, hidden_size))\n",
        "\n",
        "        for t in range(X.shape[0]):\n",
        "            x_t = X[t].reshape(1, -1)\n",
        "            y_t = Y[t].reshape(1, -1)\n",
        "\n",
        "            # Forward pass\n",
        "            h_t, y_pred = rnn_forward(x_t, h_prev, Wx, Wh, Wy, bh, by)\n",
        "\n",
        "            # Compute loss\n",
        "            loss = -np.sum(y_t * np.log(y_pred))\n",
        "\n",
        "            # Backward pass\n",
        "            dy = y_pred - y_t\n",
        "            dWx, dWh, dWy, dbh, dby, dh_prev = rnn_backward(dy, h_t, x_t, h_prev, Wx, Wh, Wy, bh, by)\n",
        "\n",
        "            # Update weights\n",
        "            Wx -= learning_rate * dWx\n",
        "            Wh -= learning_rate * dWh\n",
        "            Wy -= learning_rate * dWy\n",
        "            bh -= learning_rate * dbh\n",
        "            by -= learning_rate * dby\n",
        "\n",
        "            h_prev = h_t\n",
        "\n",
        "        if epoch % 10 == 0:\n",
        "            print(f\"Epoch {epoch}, Loss: {loss}\")\n",
        "\n",
        "    return Wx, Wh, Wy, bh, by"
      ],
      "metadata": {
        "id": "ppLU6qUMVlxE"
      },
      "execution_count": 3,
      "outputs": []
    },
    {
      "cell_type": "code",
      "source": [
        "# Dummy data\n",
        "X = np.random.rand(100, 10)\n",
        "Y = np.random.randint(0, 2, size=(100, 2))\n",
        "\n",
        "# One-hot encode Y\n",
        "Y_one_hot = np.zeros((Y.shape[0], 2))\n",
        "Y_one_hot[np.arange(Y.shape[0]), Y[:, 0]] = 1\n",
        "\n",
        "# Training the RNN\n",
        "Wx, Wh, Wy, bh, by = train_rnn(X, Y_one_hot, 150)"
      ],
      "metadata": {
        "colab": {
          "base_uri": "https://localhost:8080/"
        },
        "id": "U1X2-OrzVrn1",
        "outputId": "e125a95b-52dd-49a9-f430-138bb9305d64"
      },
      "execution_count": 20,
      "outputs": [
        {
          "output_type": "stream",
          "name": "stdout",
          "text": [
            "Epoch 0, Loss: 1.0864537362379427\n",
            "Epoch 10, Loss: 0.7610208682624344\n",
            "Epoch 20, Loss: 0.6831590104327585\n",
            "Epoch 30, Loss: 0.7325073205451361\n",
            "Epoch 40, Loss: 0.7174668915631806\n",
            "Epoch 50, Loss: 0.6819277012094069\n",
            "Epoch 60, Loss: 0.6824962428302749\n",
            "Epoch 70, Loss: 0.6816580539731405\n",
            "Epoch 80, Loss: 0.7061832970821572\n",
            "Epoch 90, Loss: 0.7031791470052544\n",
            "Epoch 100, Loss: 0.6996413412900313\n",
            "Epoch 110, Loss: 0.6956489049760015\n",
            "Epoch 120, Loss: 0.6972491121558055\n",
            "Epoch 130, Loss: 0.6845989721430862\n",
            "Epoch 140, Loss: 0.6815764520460467\n"
          ]
        }
      ]
    },
    {
      "cell_type": "code",
      "source": [
        "from sklearn.metrics import accuracy_score, confusion_matrix"
      ],
      "metadata": {
        "id": "tAT4ljg9V24i"
      },
      "execution_count": 7,
      "outputs": []
    },
    {
      "cell_type": "code",
      "source": [
        "def predict_rnn(X, Wx, Wh, Wy, bh, by):\n",
        "    h_prev = np.zeros((1, Wh.shape[0]))\n",
        "    predictions = []\n",
        "\n",
        "    for t in range(X.shape[0]):\n",
        "        x_t = X[t].reshape(1, -1)\n",
        "        h_t, y_pred = rnn_forward(x_t, h_prev, Wx, Wh, Wy, bh, by)\n",
        "        predictions.append(np.argmax(y_pred))\n",
        "\n",
        "        h_prev = h_t\n",
        "\n",
        "    return np.array(predictions)"
      ],
      "metadata": {
        "id": "ULflOvJzV5_3"
      },
      "execution_count": 8,
      "outputs": []
    },
    {
      "cell_type": "code",
      "source": [
        "# Dummy test data\n",
        "X_test = np.random.rand(20, 10)\n",
        "Y_test = np.random.randint(0, 2, size=(20, 2))\n",
        "\n",
        "# One-hot encode Y_test\n",
        "Y_test_one_hot = np.zeros((Y_test.shape[0], 2))\n",
        "Y_test_one_hot[np.arange(Y_test.shape[0]), Y_test[:, 0]] = 1\n",
        "\n",
        "# Make predictions\n",
        "predictions = predict_rnn(X_test, Wx, Wh, Wy, bh, by)\n",
        "\n",
        "# Calculate accuracy\n",
        "accuracy = accuracy_score(Y_test[:, 0], predictions)\n",
        "print(f\"Accuracy: {accuracy}\")\n",
        "\n",
        "# Calculate confusion matrix\n",
        "conf_matrix = confusion_matrix(Y_test[:, 0], predictions)\n",
        "print(\"Confusion Matrix:\")\n",
        "print(conf_matrix)"
      ],
      "metadata": {
        "colab": {
          "base_uri": "https://localhost:8080/"
        },
        "id": "OUIWFlUEV8Z3",
        "outputId": "40174bd2-6b2f-4b96-a80c-e9bd7c161b26"
      },
      "execution_count": 21,
      "outputs": [
        {
          "output_type": "stream",
          "name": "stdout",
          "text": [
            "Accuracy: 0.4\n",
            "Confusion Matrix:\n",
            "[[6 7]\n",
            " [5 2]]\n"
          ]
        }
      ]
    }
  ]
}