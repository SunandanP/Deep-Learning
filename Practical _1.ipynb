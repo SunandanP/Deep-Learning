{
 "cells": [
  {
   "cell_type": "code",
   "execution_count": null,
   "metadata": {},
   "outputs": [],
   "source": [
    "#tensorflow\n",
    "import tensorflow as tf\n",
    "import numpy as np\n",
    "import matplotlib.pyplot as plt"
   ]
  },
  {
   "cell_type": "code",
   "execution_count": null,
   "metadata": {},
   "outputs": [],
   "source": [
    "# Generate simple linear data: y = 2 * x + 1 with some noise\n",
    "x_data = np.linspace(0, 10, 100)\n",
    "y_data = 2 * x_data + 1 + np.random.normal(0, 1, 100)"
   ]
  },
  {
   "cell_type": "code",
   "execution_count": null,
   "metadata": {},
   "outputs": [],
   "source": [
    "# Build a simple linear model: y = wx + b\n",
    "model = tf.keras.Sequential([\n",
    "    tf.keras.layers.Dense(1, input_shape=(1,))\n",
    "])"
   ]
  },
  {
   "cell_type": "code",
   "execution_count": null,
   "metadata": {},
   "outputs": [],
   "source": [
    "# Compile the model with mean squared error loss and SGD optimizer\n",
    "model.compile(optimizer='sgd', loss='mse')\n",
    "\n",
    "# Train the model and save the loss history\n",
    "history = model.fit(x_data, y_data, epochs=50, verbose=0)"
   ]
  },
  {
   "cell_type": "code",
   "execution_count": null,
   "metadata": {},
   "outputs": [],
   "source": [
    "# Plot training loss over epochs\n",
    "plt.plot(history.history['loss'])\n",
    "plt.xlabel('Epoch')\n",
    "plt.ylabel('Loss (MSE)')\n",
    "plt.title('Training Loss')\n",
    "plt.show()"
   ]
  },
  {
   "cell_type": "code",
   "execution_count": null,
   "metadata": {},
   "outputs": [],
   "source": [
    "# Make a prediction\n",
    "new_x = np.array([15])\n",
    "prediction = model.predict(new_x)\n",
    "print(f\"Prediction for x={new_x[0]}: {prediction[0][0]}\")\n",
    "\n",
    "# Plot the data and the linear regression line\n",
    "plt.scatter(x_data, y_data, label='Data')\n",
    "plt.plot(x_data, model.predict(x_data), color='red', label='Fitted Line')\n",
    "plt.xlabel('x')\n",
    "plt.ylabel('y')\n",
    "plt.legend()\n",
    "plt.show()"
   ]
  },
  {
   "cell_type": "code",
   "execution_count": null,
   "metadata": {},
   "outputs": [],
   "source": [
    "#Torch\n",
    "\n",
    "import torch\n",
    "import torch.nn as nn\n",
    "import torch.optim as optim\n",
    "import matplotlib.pyplot as plt"
   ]
  },
  {
   "cell_type": "code",
   "execution_count": null,
   "metadata": {},
   "outputs": [],
   "source": [
    "# Generate simple linear data: y = 2 * x + 1 with some noise\n",
    "x_data = torch.linspace(0, 10, 100).view(-1, 1)\n",
    "y_data = 2 * x_data + 1 + torch.randn(100, 1)\n",
    "\n",
    "# Define a simple linear model: y = wx + b\n",
    "model = nn.Linear(1, 1)"
   ]
  },
  {
   "cell_type": "code",
   "execution_count": null,
   "metadata": {},
   "outputs": [],
   "source": [
    "# Define mean squared error loss and SGD optimizer\n",
    "criterion = nn.MSELoss()\n",
    "optimizer = optim.SGD(model.parameters(), lr=0.01)"
   ]
  },
  {
   "cell_type": "code",
   "execution_count": null,
   "metadata": {},
   "outputs": [],
   "source": [
    "# Train the model and record loss over epochs\n",
    "losses = []\n",
    "for epoch in range(50):\n",
    "    optimizer.zero_grad()  # Clear gradients\n",
    "    predictions = model(x_data)  # Forward pass\n",
    "    loss = criterion(predictions, y_data)  # Calculate loss\n",
    "    loss.backward()  # Backpropagation\n",
    "    optimizer.step()  # Update weights\n",
    "    losses.append(loss.item())  # Store loss for plotting"
   ]
  },
  {
   "cell_type": "code",
   "execution_count": null,
   "metadata": {},
   "outputs": [],
   "source": [
    "# Plot training loss over epochs\n",
    "plt.plot(losses)\n",
    "plt.xlabel('Epoch')\n",
    "plt.ylabel('Loss (MSE)')\n",
    "plt.title('Training Loss')\n",
    "plt.show()"
   ]
  },
  {
   "cell_type": "code",
   "execution_count": null,
   "metadata": {},
   "outputs": [],
   "source": [
    "# Make a prediction\n",
    "new_x = torch.tensor([[15.0]])\n",
    "prediction = model(new_x)\n",
    "print(f\"Prediction for x={new_x.item()}: {prediction.item()}\")"
   ]
  },
  {
   "cell_type": "code",
   "execution_count": null,
   "metadata": {},
   "outputs": [],
   "source": [
    "# Plot the data and the linear regression line\n",
    "plt.scatter(x_data.numpy(), y_data.numpy(), label='Data')\n",
    "plt.plot(x_data.numpy(), model(x_data).detach().numpy(), color='red', label='Fitted Line')\n",
    "plt.xlabel('x')\n",
    "plt.ylabel('y')\n",
    "plt.legend()\n",
    "plt.show()"
   ]
  }
 ],
 "metadata": {
  "language_info": {
   "name": "python"
  }
 },
 "nbformat": 4,
 "nbformat_minor": 2
}
